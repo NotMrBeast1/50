{
  "nbformat": 4,
  "nbformat_minor": 0,
  "metadata": {
    "colab": {
      "name": "Untitled1.ipynb",
      "provenance": [],
      "authorship_tag": "ABX9TyMrLrSDVwpWk0oWlAR9Dzo9",
      "include_colab_link": true
    },
    "kernelspec": {
      "name": "python3",
      "display_name": "Python 3"
    },
    "language_info": {
      "name": "python"
    }
  },
  "cells": [
    {
      "cell_type": "markdown",
      "metadata": {
        "id": "view-in-github",
        "colab_type": "text"
      },
      "source": [
        "<a href=\"https://colab.research.google.com/github/NotMrBeast1/50/blob/main/Untitled1.ipynb\" target=\"_parent\"><img src=\"https://colab.research.google.com/assets/colab-badge.svg\" alt=\"Open In Colab\"/></a>"
      ]
    },
    {
      "cell_type": "code",
      "execution_count": 8,
      "metadata": {
        "colab": {
          "base_uri": "https://localhost:8080/"
        },
        "id": "NWcR_DJd_fY7",
        "outputId": "341e4f69-6828-4d58-c015-bbc534080817"
      },
      "outputs": [
        {
          "output_type": "stream",
          "name": "stdout",
          "text": [
            "67.99311359679979\n"
          ]
        }
      ],
      "source": [
        "import csv\n",
        "with open(\"S.csv\", newline = \"\") as f:\n",
        "  reader = csv.reader(f)\n",
        "  file_data = list(reader)\n",
        "\n",
        "file_data.pop(0)\n",
        "new_data = []\n",
        "for i in range(len(file_data)):\n",
        "  n_num = file_data[i][1]\n",
        "  new_data.append(float(n_num))\n",
        "\n",
        "n = len(new_data)\n",
        "total = 0\n",
        "\n",
        "for x in new_data:\n",
        "  total+=x\n",
        "\n",
        "mean = total/n\n",
        "\n",
        "print(mean)\n",
        "\n"
      ]
    },
    {
      "cell_type": "code",
      "source": [
        "new_data.sort()\n",
        "if n%2 == 0:\n",
        "  median1 = float(new_data[n//2])\n",
        "  median2 = float(new_data[n//2-1])\n",
        "  median = (median1 + median2) / 2\n",
        "else:\n",
        "  median = new_data[n//2]\n",
        "\n",
        "print(median)"
      ],
      "metadata": {
        "colab": {
          "base_uri": "https://localhost:8080/"
        },
        "id": "Mvx_UKiJFQ0w",
        "outputId": "f121dd62-0bdb-4668-cf42-933fa7c228ce"
      },
      "execution_count": 10,
      "outputs": [
        {
          "output_type": "stream",
          "name": "stdout",
          "text": [
            "67.9957\n"
          ]
        }
      ]
    },
    {
      "cell_type": "code",
      "source": [
        "from collections import Counter\n",
        "data = Counter(new_data)\n",
        "mode_data_for_range = {\n",
        "    \"50-60\":0,\n",
        "    \"60-70\":0,\n",
        "    \"70-80\":0\n",
        "}\n",
        "for height, occurence in data.items():\n",
        "  if 50<float(height)<60:\n",
        "    mode_data_for_range[\"50-60\"]+= occurence\n",
        "  elif 60<float(height)<70:\n",
        "    mode_data_for_range[\"60-70\"]+= occurence\n",
        "  elif 70<float(height)<80:\n",
        "    mode_data_for_range[\"70-80\"]+= occurence\n",
        "\n",
        "mode_range, mode_occurence = 0,0\n",
        "\n",
        "for range, occurence in mode_data_for_range.items():\n",
        "  if occurence>mode_occurence:\n",
        "    mode_range, mode_occurence = [int(range.split(\"-\")[0]),int(range.split(\"-\")[1])], occurence\n",
        "    mode = float((mode_range[0]+mode_range[1])/2)\n",
        "print(mode)"
      ],
      "metadata": {
        "colab": {
          "base_uri": "https://localhost:8080/"
        },
        "id": "jnO0WzKCGOCa",
        "outputId": "8f2d0df1-7198-4f16-959e-477dfab81ccb"
      },
      "execution_count": 16,
      "outputs": [
        {
          "output_type": "stream",
          "name": "stdout",
          "text": [
            "65.0\n"
          ]
        }
      ]
    }
  ]
}